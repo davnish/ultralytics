{
 "cells": [
  {
   "cell_type": "code",
   "execution_count": 143,
   "id": "be013def",
   "metadata": {},
   "outputs": [],
   "source": [
    "import geopandas as gpd\n",
    "from shapely.geometry import box, Point\n",
    "import pandas as pd\n",
    "import rasterio as rio\n",
    "import glob\n",
    "import os"
   ]
  },
  {
   "cell_type": "code",
   "execution_count": 139,
   "id": "afc278bf",
   "metadata": {},
   "outputs": [],
   "source": [
    "with rio.open(\"preprocessing_data/8bit/patched_full/patched_full.27.tif\") as src:\n",
    "    profile = src.profile"
   ]
  },
  {
   "cell_type": "code",
   "execution_count": 140,
   "id": "d5f9e87d",
   "metadata": {
    "scrolled": true
   },
   "outputs": [
    {
     "ename": "FileNotFoundError",
     "evalue": "[Errno 2] No such file or directory: '27.txt'",
     "output_type": "error",
     "traceback": [
      "\u001b[0;31m---------------------------------------------------------------------------\u001b[0m",
      "\u001b[0;31mFileNotFoundError\u001b[0m                         Traceback (most recent call last)",
      "Cell \u001b[0;32mIn[140], line 1\u001b[0m\n\u001b[0;32m----> 1\u001b[0m df \u001b[38;5;241m=\u001b[39m \u001b[43mpd\u001b[49m\u001b[38;5;241;43m.\u001b[39;49m\u001b[43mread_csv\u001b[49m\u001b[43m(\u001b[49m\u001b[38;5;124;43m\"\u001b[39;49m\u001b[38;5;124;43m27.txt\u001b[39;49m\u001b[38;5;124;43m\"\u001b[39;49m\u001b[43m,\u001b[49m\u001b[43m \u001b[49m\u001b[43mdelimiter\u001b[49m\u001b[43m \u001b[49m\u001b[38;5;241;43m=\u001b[39;49m\u001b[43m \u001b[49m\u001b[38;5;124;43m\"\u001b[39;49m\u001b[38;5;124;43m \u001b[39;49m\u001b[38;5;124;43m\"\u001b[39;49m\u001b[43m,\u001b[49m\u001b[43m \u001b[49m\u001b[43mnames\u001b[49m\u001b[43m \u001b[49m\u001b[38;5;241;43m=\u001b[39;49m\u001b[43m \u001b[49m\u001b[43m[\u001b[49m\u001b[38;5;124;43m'\u001b[39;49m\u001b[38;5;124;43mclass\u001b[39;49m\u001b[38;5;124;43m'\u001b[39;49m\u001b[43m,\u001b[49m\u001b[43m \u001b[49m\u001b[38;5;124;43m'\u001b[39;49m\u001b[38;5;124;43mx\u001b[39;49m\u001b[38;5;124;43m'\u001b[39;49m\u001b[43m,\u001b[49m\u001b[43m \u001b[49m\u001b[38;5;124;43m'\u001b[39;49m\u001b[38;5;124;43my\u001b[39;49m\u001b[38;5;124;43m'\u001b[39;49m\u001b[43m,\u001b[49m\u001b[43m \u001b[49m\u001b[38;5;124;43m'\u001b[39;49m\u001b[38;5;124;43mwidth\u001b[39;49m\u001b[38;5;124;43m'\u001b[39;49m\u001b[43m,\u001b[49m\u001b[43m \u001b[49m\u001b[38;5;124;43m'\u001b[39;49m\u001b[38;5;124;43mheight\u001b[39;49m\u001b[38;5;124;43m'\u001b[39;49m\u001b[43m]\u001b[49m\u001b[43m)\u001b[49m\n",
      "File \u001b[0;32m/opt/homebrew/lib/python3.11/site-packages/pandas/io/parsers/readers.py:912\u001b[0m, in \u001b[0;36mread_csv\u001b[0;34m(filepath_or_buffer, sep, delimiter, header, names, index_col, usecols, dtype, engine, converters, true_values, false_values, skipinitialspace, skiprows, skipfooter, nrows, na_values, keep_default_na, na_filter, verbose, skip_blank_lines, parse_dates, infer_datetime_format, keep_date_col, date_parser, date_format, dayfirst, cache_dates, iterator, chunksize, compression, thousands, decimal, lineterminator, quotechar, quoting, doublequote, escapechar, comment, encoding, encoding_errors, dialect, on_bad_lines, delim_whitespace, low_memory, memory_map, float_precision, storage_options, dtype_backend)\u001b[0m\n\u001b[1;32m    899\u001b[0m kwds_defaults \u001b[38;5;241m=\u001b[39m _refine_defaults_read(\n\u001b[1;32m    900\u001b[0m     dialect,\n\u001b[1;32m    901\u001b[0m     delimiter,\n\u001b[0;32m   (...)\u001b[0m\n\u001b[1;32m    908\u001b[0m     dtype_backend\u001b[38;5;241m=\u001b[39mdtype_backend,\n\u001b[1;32m    909\u001b[0m )\n\u001b[1;32m    910\u001b[0m kwds\u001b[38;5;241m.\u001b[39mupdate(kwds_defaults)\n\u001b[0;32m--> 912\u001b[0m \u001b[38;5;28;01mreturn\u001b[39;00m \u001b[43m_read\u001b[49m\u001b[43m(\u001b[49m\u001b[43mfilepath_or_buffer\u001b[49m\u001b[43m,\u001b[49m\u001b[43m \u001b[49m\u001b[43mkwds\u001b[49m\u001b[43m)\u001b[49m\n",
      "File \u001b[0;32m/opt/homebrew/lib/python3.11/site-packages/pandas/io/parsers/readers.py:577\u001b[0m, in \u001b[0;36m_read\u001b[0;34m(filepath_or_buffer, kwds)\u001b[0m\n\u001b[1;32m    574\u001b[0m _validate_names(kwds\u001b[38;5;241m.\u001b[39mget(\u001b[38;5;124m\"\u001b[39m\u001b[38;5;124mnames\u001b[39m\u001b[38;5;124m\"\u001b[39m, \u001b[38;5;28;01mNone\u001b[39;00m))\n\u001b[1;32m    576\u001b[0m \u001b[38;5;66;03m# Create the parser.\u001b[39;00m\n\u001b[0;32m--> 577\u001b[0m parser \u001b[38;5;241m=\u001b[39m \u001b[43mTextFileReader\u001b[49m\u001b[43m(\u001b[49m\u001b[43mfilepath_or_buffer\u001b[49m\u001b[43m,\u001b[49m\u001b[43m \u001b[49m\u001b[38;5;241;43m*\u001b[39;49m\u001b[38;5;241;43m*\u001b[39;49m\u001b[43mkwds\u001b[49m\u001b[43m)\u001b[49m\n\u001b[1;32m    579\u001b[0m \u001b[38;5;28;01mif\u001b[39;00m chunksize \u001b[38;5;129;01mor\u001b[39;00m iterator:\n\u001b[1;32m    580\u001b[0m     \u001b[38;5;28;01mreturn\u001b[39;00m parser\n",
      "File \u001b[0;32m/opt/homebrew/lib/python3.11/site-packages/pandas/io/parsers/readers.py:1407\u001b[0m, in \u001b[0;36mTextFileReader.__init__\u001b[0;34m(self, f, engine, **kwds)\u001b[0m\n\u001b[1;32m   1404\u001b[0m     \u001b[38;5;28mself\u001b[39m\u001b[38;5;241m.\u001b[39moptions[\u001b[38;5;124m\"\u001b[39m\u001b[38;5;124mhas_index_names\u001b[39m\u001b[38;5;124m\"\u001b[39m] \u001b[38;5;241m=\u001b[39m kwds[\u001b[38;5;124m\"\u001b[39m\u001b[38;5;124mhas_index_names\u001b[39m\u001b[38;5;124m\"\u001b[39m]\n\u001b[1;32m   1406\u001b[0m \u001b[38;5;28mself\u001b[39m\u001b[38;5;241m.\u001b[39mhandles: IOHandles \u001b[38;5;241m|\u001b[39m \u001b[38;5;28;01mNone\u001b[39;00m \u001b[38;5;241m=\u001b[39m \u001b[38;5;28;01mNone\u001b[39;00m\n\u001b[0;32m-> 1407\u001b[0m \u001b[38;5;28mself\u001b[39m\u001b[38;5;241m.\u001b[39m_engine \u001b[38;5;241m=\u001b[39m \u001b[38;5;28;43mself\u001b[39;49m\u001b[38;5;241;43m.\u001b[39;49m\u001b[43m_make_engine\u001b[49m\u001b[43m(\u001b[49m\u001b[43mf\u001b[49m\u001b[43m,\u001b[49m\u001b[43m \u001b[49m\u001b[38;5;28;43mself\u001b[39;49m\u001b[38;5;241;43m.\u001b[39;49m\u001b[43mengine\u001b[49m\u001b[43m)\u001b[49m\n",
      "File \u001b[0;32m/opt/homebrew/lib/python3.11/site-packages/pandas/io/parsers/readers.py:1661\u001b[0m, in \u001b[0;36mTextFileReader._make_engine\u001b[0;34m(self, f, engine)\u001b[0m\n\u001b[1;32m   1659\u001b[0m     \u001b[38;5;28;01mif\u001b[39;00m \u001b[38;5;124m\"\u001b[39m\u001b[38;5;124mb\u001b[39m\u001b[38;5;124m\"\u001b[39m \u001b[38;5;129;01mnot\u001b[39;00m \u001b[38;5;129;01min\u001b[39;00m mode:\n\u001b[1;32m   1660\u001b[0m         mode \u001b[38;5;241m+\u001b[39m\u001b[38;5;241m=\u001b[39m \u001b[38;5;124m\"\u001b[39m\u001b[38;5;124mb\u001b[39m\u001b[38;5;124m\"\u001b[39m\n\u001b[0;32m-> 1661\u001b[0m \u001b[38;5;28mself\u001b[39m\u001b[38;5;241m.\u001b[39mhandles \u001b[38;5;241m=\u001b[39m \u001b[43mget_handle\u001b[49m\u001b[43m(\u001b[49m\n\u001b[1;32m   1662\u001b[0m \u001b[43m    \u001b[49m\u001b[43mf\u001b[49m\u001b[43m,\u001b[49m\n\u001b[1;32m   1663\u001b[0m \u001b[43m    \u001b[49m\u001b[43mmode\u001b[49m\u001b[43m,\u001b[49m\n\u001b[1;32m   1664\u001b[0m \u001b[43m    \u001b[49m\u001b[43mencoding\u001b[49m\u001b[38;5;241;43m=\u001b[39;49m\u001b[38;5;28;43mself\u001b[39;49m\u001b[38;5;241;43m.\u001b[39;49m\u001b[43moptions\u001b[49m\u001b[38;5;241;43m.\u001b[39;49m\u001b[43mget\u001b[49m\u001b[43m(\u001b[49m\u001b[38;5;124;43m\"\u001b[39;49m\u001b[38;5;124;43mencoding\u001b[39;49m\u001b[38;5;124;43m\"\u001b[39;49m\u001b[43m,\u001b[49m\u001b[43m \u001b[49m\u001b[38;5;28;43;01mNone\u001b[39;49;00m\u001b[43m)\u001b[49m\u001b[43m,\u001b[49m\n\u001b[1;32m   1665\u001b[0m \u001b[43m    \u001b[49m\u001b[43mcompression\u001b[49m\u001b[38;5;241;43m=\u001b[39;49m\u001b[38;5;28;43mself\u001b[39;49m\u001b[38;5;241;43m.\u001b[39;49m\u001b[43moptions\u001b[49m\u001b[38;5;241;43m.\u001b[39;49m\u001b[43mget\u001b[49m\u001b[43m(\u001b[49m\u001b[38;5;124;43m\"\u001b[39;49m\u001b[38;5;124;43mcompression\u001b[39;49m\u001b[38;5;124;43m\"\u001b[39;49m\u001b[43m,\u001b[49m\u001b[43m \u001b[49m\u001b[38;5;28;43;01mNone\u001b[39;49;00m\u001b[43m)\u001b[49m\u001b[43m,\u001b[49m\n\u001b[1;32m   1666\u001b[0m \u001b[43m    \u001b[49m\u001b[43mmemory_map\u001b[49m\u001b[38;5;241;43m=\u001b[39;49m\u001b[38;5;28;43mself\u001b[39;49m\u001b[38;5;241;43m.\u001b[39;49m\u001b[43moptions\u001b[49m\u001b[38;5;241;43m.\u001b[39;49m\u001b[43mget\u001b[49m\u001b[43m(\u001b[49m\u001b[38;5;124;43m\"\u001b[39;49m\u001b[38;5;124;43mmemory_map\u001b[39;49m\u001b[38;5;124;43m\"\u001b[39;49m\u001b[43m,\u001b[49m\u001b[43m \u001b[49m\u001b[38;5;28;43;01mFalse\u001b[39;49;00m\u001b[43m)\u001b[49m\u001b[43m,\u001b[49m\n\u001b[1;32m   1667\u001b[0m \u001b[43m    \u001b[49m\u001b[43mis_text\u001b[49m\u001b[38;5;241;43m=\u001b[39;49m\u001b[43mis_text\u001b[49m\u001b[43m,\u001b[49m\n\u001b[1;32m   1668\u001b[0m \u001b[43m    \u001b[49m\u001b[43merrors\u001b[49m\u001b[38;5;241;43m=\u001b[39;49m\u001b[38;5;28;43mself\u001b[39;49m\u001b[38;5;241;43m.\u001b[39;49m\u001b[43moptions\u001b[49m\u001b[38;5;241;43m.\u001b[39;49m\u001b[43mget\u001b[49m\u001b[43m(\u001b[49m\u001b[38;5;124;43m\"\u001b[39;49m\u001b[38;5;124;43mencoding_errors\u001b[39;49m\u001b[38;5;124;43m\"\u001b[39;49m\u001b[43m,\u001b[49m\u001b[43m \u001b[49m\u001b[38;5;124;43m\"\u001b[39;49m\u001b[38;5;124;43mstrict\u001b[39;49m\u001b[38;5;124;43m\"\u001b[39;49m\u001b[43m)\u001b[49m\u001b[43m,\u001b[49m\n\u001b[1;32m   1669\u001b[0m \u001b[43m    \u001b[49m\u001b[43mstorage_options\u001b[49m\u001b[38;5;241;43m=\u001b[39;49m\u001b[38;5;28;43mself\u001b[39;49m\u001b[38;5;241;43m.\u001b[39;49m\u001b[43moptions\u001b[49m\u001b[38;5;241;43m.\u001b[39;49m\u001b[43mget\u001b[49m\u001b[43m(\u001b[49m\u001b[38;5;124;43m\"\u001b[39;49m\u001b[38;5;124;43mstorage_options\u001b[39;49m\u001b[38;5;124;43m\"\u001b[39;49m\u001b[43m,\u001b[49m\u001b[43m \u001b[49m\u001b[38;5;28;43;01mNone\u001b[39;49;00m\u001b[43m)\u001b[49m\u001b[43m,\u001b[49m\n\u001b[1;32m   1670\u001b[0m \u001b[43m\u001b[49m\u001b[43m)\u001b[49m\n\u001b[1;32m   1671\u001b[0m \u001b[38;5;28;01massert\u001b[39;00m \u001b[38;5;28mself\u001b[39m\u001b[38;5;241m.\u001b[39mhandles \u001b[38;5;129;01mis\u001b[39;00m \u001b[38;5;129;01mnot\u001b[39;00m \u001b[38;5;28;01mNone\u001b[39;00m\n\u001b[1;32m   1672\u001b[0m f \u001b[38;5;241m=\u001b[39m \u001b[38;5;28mself\u001b[39m\u001b[38;5;241m.\u001b[39mhandles\u001b[38;5;241m.\u001b[39mhandle\n",
      "File \u001b[0;32m/opt/homebrew/lib/python3.11/site-packages/pandas/io/common.py:859\u001b[0m, in \u001b[0;36mget_handle\u001b[0;34m(path_or_buf, mode, encoding, compression, memory_map, is_text, errors, storage_options)\u001b[0m\n\u001b[1;32m    854\u001b[0m \u001b[38;5;28;01melif\u001b[39;00m \u001b[38;5;28misinstance\u001b[39m(handle, \u001b[38;5;28mstr\u001b[39m):\n\u001b[1;32m    855\u001b[0m     \u001b[38;5;66;03m# Check whether the filename is to be opened in binary mode.\u001b[39;00m\n\u001b[1;32m    856\u001b[0m     \u001b[38;5;66;03m# Binary mode does not support 'encoding' and 'newline'.\u001b[39;00m\n\u001b[1;32m    857\u001b[0m     \u001b[38;5;28;01mif\u001b[39;00m ioargs\u001b[38;5;241m.\u001b[39mencoding \u001b[38;5;129;01mand\u001b[39;00m \u001b[38;5;124m\"\u001b[39m\u001b[38;5;124mb\u001b[39m\u001b[38;5;124m\"\u001b[39m \u001b[38;5;129;01mnot\u001b[39;00m \u001b[38;5;129;01min\u001b[39;00m ioargs\u001b[38;5;241m.\u001b[39mmode:\n\u001b[1;32m    858\u001b[0m         \u001b[38;5;66;03m# Encoding\u001b[39;00m\n\u001b[0;32m--> 859\u001b[0m         handle \u001b[38;5;241m=\u001b[39m \u001b[38;5;28mopen\u001b[39m(\n\u001b[1;32m    860\u001b[0m             handle,\n\u001b[1;32m    861\u001b[0m             ioargs\u001b[38;5;241m.\u001b[39mmode,\n\u001b[1;32m    862\u001b[0m             encoding\u001b[38;5;241m=\u001b[39mioargs\u001b[38;5;241m.\u001b[39mencoding,\n\u001b[1;32m    863\u001b[0m             errors\u001b[38;5;241m=\u001b[39merrors,\n\u001b[1;32m    864\u001b[0m             newline\u001b[38;5;241m=\u001b[39m\u001b[38;5;124m\"\u001b[39m\u001b[38;5;124m\"\u001b[39m,\n\u001b[1;32m    865\u001b[0m         )\n\u001b[1;32m    866\u001b[0m     \u001b[38;5;28;01melse\u001b[39;00m:\n\u001b[1;32m    867\u001b[0m         \u001b[38;5;66;03m# Binary mode\u001b[39;00m\n\u001b[1;32m    868\u001b[0m         handle \u001b[38;5;241m=\u001b[39m \u001b[38;5;28mopen\u001b[39m(handle, ioargs\u001b[38;5;241m.\u001b[39mmode)\n",
      "\u001b[0;31mFileNotFoundError\u001b[0m: [Errno 2] No such file or directory: '27.txt'"
     ]
    }
   ],
   "source": [
    "df = pd.read_csv(\"results/txt/patched_full.27.txt\", delimiter = \" \", names = ['class', 'x', 'y', 'width', 'height'])"
   ]
  },
  {
   "cell_type": "code",
   "execution_count": 129,
   "id": "9c146019",
   "metadata": {
    "scrolled": true
   },
   "outputs": [],
   "source": [
    "df['x'] = round(df.x * 256)\n",
    "df['y'] = round(df.y * 256)"
   ]
  },
  {
   "cell_type": "code",
   "execution_count": 130,
   "id": "16b41a96",
   "metadata": {},
   "outputs": [],
   "source": [
    "df['centroid'] = df.apply(lambda row: Point(profile['transform'] * (row.x, row.y)), axis = 1)"
   ]
  },
  {
   "cell_type": "code",
   "execution_count": 131,
   "id": "575e36c9",
   "metadata": {},
   "outputs": [
    {
     "data": {
      "text/plain": [
       "0      POINT (-3.983078179938917 5.409753955519084)\n",
       "1      POINT (-4.210557668305342 5.147190565961817)\n",
       "2       POINT (-4.03287468485495 5.166430124679375)\n",
       "3      POINT (-4.105305964732817 5.146058827213725)\n",
       "4      POINT (-4.069090324793883 5.146058827213725)\n",
       "                          ...                      \n",
       "81    POINT (-4.159629424641217 5.4074904780229005)\n",
       "82     POINT (-4.0713538022900675 5.40070004553435)\n",
       "83     POINT (-4.159629424641217 5.365616144343509)\n",
       "84    POINT (-4.211689407053433 5.1675618634274665)\n",
       "85    POINT (-4.0871981447633505 5.220753584587775)\n",
       "Name: centroid, Length: 86, dtype: object"
      ]
     },
     "execution_count": 131,
     "metadata": {},
     "output_type": "execute_result"
    }
   ],
   "source": [
    "df['centroid']"
   ]
  },
  {
   "cell_type": "code",
   "execution_count": 132,
   "id": "b352f926",
   "metadata": {
    "scrolled": false
   },
   "outputs": [
    {
     "data": {
      "text/html": [
       "<div>\n",
       "<style scoped>\n",
       "    .dataframe tbody tr th:only-of-type {\n",
       "        vertical-align: middle;\n",
       "    }\n",
       "\n",
       "    .dataframe tbody tr th {\n",
       "        vertical-align: top;\n",
       "    }\n",
       "\n",
       "    .dataframe thead th {\n",
       "        text-align: right;\n",
       "    }\n",
       "</style>\n",
       "<table border=\"1\" class=\"dataframe\">\n",
       "  <thead>\n",
       "    <tr style=\"text-align: right;\">\n",
       "      <th></th>\n",
       "      <th>class</th>\n",
       "      <th>x</th>\n",
       "      <th>y</th>\n",
       "      <th>width</th>\n",
       "      <th>height</th>\n",
       "      <th>centroid</th>\n",
       "    </tr>\n",
       "  </thead>\n",
       "  <tbody>\n",
       "    <tr>\n",
       "      <th>0</th>\n",
       "      <td>0</td>\n",
       "      <td>58880.0</td>\n",
       "      <td>1792.0</td>\n",
       "      <td>0.083171</td>\n",
       "      <td>0.057803</td>\n",
       "      <td>POINT (-3.983078179938917 5.409753955519084)</td>\n",
       "    </tr>\n",
       "    <tr>\n",
       "      <th>1</th>\n",
       "      <td>0</td>\n",
       "      <td>7424.0</td>\n",
       "      <td>61184.0</td>\n",
       "      <td>0.075959</td>\n",
       "      <td>0.077730</td>\n",
       "      <td>POINT (-4.210557668305342 5.147190565961817)</td>\n",
       "    </tr>\n",
       "    <tr>\n",
       "      <th>2</th>\n",
       "      <td>0</td>\n",
       "      <td>47616.0</td>\n",
       "      <td>56832.0</td>\n",
       "      <td>0.074955</td>\n",
       "      <td>0.074330</td>\n",
       "      <td>POINT (-4.03287468485495 5.166430124679375)</td>\n",
       "    </tr>\n",
       "    <tr>\n",
       "      <th>3</th>\n",
       "      <td>0</td>\n",
       "      <td>31232.0</td>\n",
       "      <td>61440.0</td>\n",
       "      <td>0.072025</td>\n",
       "      <td>0.072131</td>\n",
       "      <td>POINT (-4.105305964732817 5.146058827213725)</td>\n",
       "    </tr>\n",
       "    <tr>\n",
       "      <th>4</th>\n",
       "      <td>0</td>\n",
       "      <td>39424.0</td>\n",
       "      <td>61440.0</td>\n",
       "      <td>0.073631</td>\n",
       "      <td>0.072420</td>\n",
       "      <td>POINT (-4.069090324793883 5.146058827213725)</td>\n",
       "    </tr>\n",
       "    <tr>\n",
       "      <th>...</th>\n",
       "      <td>...</td>\n",
       "      <td>...</td>\n",
       "      <td>...</td>\n",
       "      <td>...</td>\n",
       "      <td>...</td>\n",
       "      <td>...</td>\n",
       "    </tr>\n",
       "    <tr>\n",
       "      <th>81</th>\n",
       "      <td>0</td>\n",
       "      <td>18944.0</td>\n",
       "      <td>2304.0</td>\n",
       "      <td>0.069778</td>\n",
       "      <td>0.065696</td>\n",
       "      <td>POINT (-4.159629424641217 5.4074904780229005)</td>\n",
       "    </tr>\n",
       "    <tr>\n",
       "      <th>82</th>\n",
       "      <td>0</td>\n",
       "      <td>38912.0</td>\n",
       "      <td>3840.0</td>\n",
       "      <td>0.084126</td>\n",
       "      <td>0.077278</td>\n",
       "      <td>POINT (-4.0713538022900675 5.40070004553435)</td>\n",
       "    </tr>\n",
       "    <tr>\n",
       "      <th>83</th>\n",
       "      <td>0</td>\n",
       "      <td>18944.0</td>\n",
       "      <td>11776.0</td>\n",
       "      <td>0.077150</td>\n",
       "      <td>0.075033</td>\n",
       "      <td>POINT (-4.159629424641217 5.365616144343509)</td>\n",
       "    </tr>\n",
       "    <tr>\n",
       "      <th>84</th>\n",
       "      <td>0</td>\n",
       "      <td>7168.0</td>\n",
       "      <td>56576.0</td>\n",
       "      <td>0.075013</td>\n",
       "      <td>0.076750</td>\n",
       "      <td>POINT (-4.211689407053433 5.1675618634274665)</td>\n",
       "    </tr>\n",
       "    <tr>\n",
       "      <th>85</th>\n",
       "      <td>0</td>\n",
       "      <td>35328.0</td>\n",
       "      <td>44544.0</td>\n",
       "      <td>0.076309</td>\n",
       "      <td>0.076781</td>\n",
       "      <td>POINT (-4.0871981447633505 5.220753584587775)</td>\n",
       "    </tr>\n",
       "  </tbody>\n",
       "</table>\n",
       "<p>86 rows × 6 columns</p>\n",
       "</div>"
      ],
      "text/plain": [
       "    class        x        y     width    height  \\\n",
       "0       0  58880.0   1792.0  0.083171  0.057803   \n",
       "1       0   7424.0  61184.0  0.075959  0.077730   \n",
       "2       0  47616.0  56832.0  0.074955  0.074330   \n",
       "3       0  31232.0  61440.0  0.072025  0.072131   \n",
       "4       0  39424.0  61440.0  0.073631  0.072420   \n",
       "..    ...      ...      ...       ...       ...   \n",
       "81      0  18944.0   2304.0  0.069778  0.065696   \n",
       "82      0  38912.0   3840.0  0.084126  0.077278   \n",
       "83      0  18944.0  11776.0  0.077150  0.075033   \n",
       "84      0   7168.0  56576.0  0.075013  0.076750   \n",
       "85      0  35328.0  44544.0  0.076309  0.076781   \n",
       "\n",
       "                                         centroid  \n",
       "0    POINT (-3.983078179938917 5.409753955519084)  \n",
       "1    POINT (-4.210557668305342 5.147190565961817)  \n",
       "2     POINT (-4.03287468485495 5.166430124679375)  \n",
       "3    POINT (-4.105305964732817 5.146058827213725)  \n",
       "4    POINT (-4.069090324793883 5.146058827213725)  \n",
       "..                                            ...  \n",
       "81  POINT (-4.159629424641217 5.4074904780229005)  \n",
       "82   POINT (-4.0713538022900675 5.40070004553435)  \n",
       "83   POINT (-4.159629424641217 5.365616144343509)  \n",
       "84  POINT (-4.211689407053433 5.1675618634274665)  \n",
       "85  POINT (-4.0871981447633505 5.220753584587775)  \n",
       "\n",
       "[86 rows x 6 columns]"
      ]
     },
     "execution_count": 132,
     "metadata": {},
     "output_type": "execute_result"
    }
   ],
   "source": [
    "df "
   ]
  },
  {
   "cell_type": "code",
   "execution_count": 133,
   "id": "e9252faf",
   "metadata": {},
   "outputs": [],
   "source": [
    "gdf = gpd.GeoDataFrame(geometry = df['centroid'])"
   ]
  },
  {
   "cell_type": "code",
   "execution_count": 134,
   "id": "04ef088d",
   "metadata": {},
   "outputs": [
    {
     "data": {
      "text/plain": [
       "<Axes: >"
      ]
     },
     "execution_count": 134,
     "metadata": {},
     "output_type": "execute_result"
    },
    {
     "data": {
      "image/png": "[encoded data removed]",
      "text/plain": [
       "<Figure size 640x480 with 1 Axes>"
      ]
     },
     "metadata": {},
     "output_type": "display_data"
    }
   ],
   "source": [
    "gdf.plot()"
   ]
  },
  {
   "cell_type": "code",
   "execution_count": 135,
   "id": "28f4e351",
   "metadata": {},
   "outputs": [],
   "source": [
    "buffer_x = 0.00005\n",
    "buffer_y = 0.00005"
   ]
  },
  {
   "cell_type": "code",
   "execution_count": 136,
   "id": "d7436500",
   "metadata": {},
   "outputs": [
    {
     "name": "stdout",
     "output_type": "stream",
     "text": [
      "                   geometry                                               bbox\n",
      "0  POINT (-3.98308 5.40975)  POLYGON ((-3.98303 5.40970, -3.98303 5.40980, ...\n",
      "1  POINT (-4.21056 5.14719)  POLYGON ((-4.21051 5.14714, -4.21051 5.14724, ...\n",
      "2  POINT (-4.03287 5.16643)  POLYGON ((-4.03282 5.16638, -4.03282 5.16648, ...\n",
      "3  POINT (-4.10531 5.14606)  POLYGON ((-4.10526 5.14601, -4.10526 5.14611, ...\n",
      "4  POINT (-4.06909 5.14606)  POLYGON ((-4.06904 5.14601, -4.06904 5.14611, ...\n"
     ]
    }
   ],
   "source": [
    "def point_to_bbox(geom, buffer_x, buffer_y):\n",
    "    minx, miny = geom.x - buffer_x, geom.y - buffer_y\n",
    "    maxx, maxy = geom.x + buffer_x, geom.y + buffer_y\n",
    "    return box(minx, miny, maxx, maxy)\n",
    "\n",
    "# Apply the function to each point geometry\n",
    "gdf['bbox'] = gdf.geometry.apply(lambda geom: point_to_bbox(geom, buffer_x, buffer_y))\n",
    "\n",
    "# Set bbox as the new geometry column, if needed\n",
    "gdf = gdf.set_geometry('bbox')\n",
    "\n",
    "# Display the resulting GeoDataFrame with bounding boxes\n",
    "print(gdf.head())"
   ]
  },
  {
   "cell_type": "code",
   "execution_count": 138,
   "id": "f700e183",
   "metadata": {
    "scrolled": true
   },
   "outputs": [
    {
     "data": {
      "text/plain": [
       "<Axes: >"
      ]
     },
     "execution_count": 138,
     "metadata": {},
     "output_type": "execute_result"
    },
    {
     "data": {
      "image/png": "[encoded data removed]",
      "text/plain": [
       "<Figure size 640x480 with 1 Axes>"
      ]
     },
     "metadata": {},
     "output_type": "display_data"
    }
   ],
   "source": [
    "gdf.boundary.plot(color='k')"
   ]
  },
  {
   "cell_type": "code",
   "execution_count": 116,
   "id": "bed89476",
   "metadata": {},
   "outputs": [],
   "source": [
    "gdf.to_file('59.shp', driver=\"ESRI Shapefile\")"
   ]
  },
  {
   "cell_type": "markdown",
   "id": "d6408440",
   "metadata": {},
   "source": [
    "# Automation"
   ]
  },
  {
   "cell_type": "code",
   "execution_count": 144,
   "id": "fcae2436",
   "metadata": {},
   "outputs": [],
   "source": [
    "def point_to_bbox(geom, buffer_x, buffer_y):\n",
    "    minx, miny = geom.x - buffer_x, geom.y - buffer_y\n",
    "    maxx, maxy = geom.x + buffer_x, geom.y + buffer_y\n",
    "    return box(minx, miny, maxx, maxy)"
   ]
  },
  {
   "cell_type": "code",
   "execution_count": 160,
   "id": "44009639",
   "metadata": {},
   "outputs": [],
   "source": [
    "buffer_x = 0.00005\n",
    "buffer_y = 0.00005\n",
    "for i in glob.glob(\"results/*.txt\"):\n",
    "    file_name = os.path.splitext(os.path.split(i)[1])[0]\n",
    "    \n",
    "    with rio.open(f\"preprocessing_data/8bit/patched_full/{file_name}.tif\") as src:\n",
    "        profile = src.profile\n",
    "    \n",
    "    df = pd.read_csv(f\"results/{file_name}.txt\", delimiter = \" \", names = ['class', 'x', 'y', 'width', 'height'])  \n",
    "    df['x'] = round(df.x * 256)\n",
    "    df['y'] = round(df.y * 256)\n",
    "    df['centroid'] = df.apply(lambda row: Point(profile['transform'] * (row.x, row.y)), axis = 1)\n",
    "    gdf = gpd.GeoDataFrame(geometry = df['centroid'])\n",
    "    gdf['geometry'] = gdf.geometry.apply(lambda geom: point_to_bbox(geom, buffer_x, buffer_y))\n",
    "    gdf.to_file(f'results/shp/{file_name}.shp', driver=\"ESRI Shapefile\", ignore_index=True)"
   ]
  },
  {
   "cell_type": "markdown",
   "id": "432f97dd",
   "metadata": {},
   "source": [
    "# Concatenation"
   ]
  },
  {
   "cell_type": "code",
   "execution_count": 161,
   "id": "35db726a",
   "metadata": {},
   "outputs": [],
   "source": [
    "df = None\n",
    "for i in glob.glob(\"results/shp/*.shp\"):\n",
    "    df_curr = gpd.read_file(i, index = False)\n",
    "    if df is None:\n",
    "        df = df_curr\n",
    "    else:\n",
    "        df = pd.concat([df, df_curr], ignore_index = True)\n",
    "    "
   ]
  },
  {
   "cell_type": "code",
   "execution_count": 162,
   "id": "d82778a3",
   "metadata": {
    "scrolled": true
   },
   "outputs": [
    {
     "data": {
      "text/html": [
       "<div>\n",
       "<style scoped>\n",
       "    .dataframe tbody tr th:only-of-type {\n",
       "        vertical-align: middle;\n",
       "    }\n",
       "\n",
       "    .dataframe tbody tr th {\n",
       "        vertical-align: top;\n",
       "    }\n",
       "\n",
       "    .dataframe thead th {\n",
       "        text-align: right;\n",
       "    }\n",
       "</style>\n",
       "<table border=\"1\" class=\"dataframe\">\n",
       "  <thead>\n",
       "    <tr style=\"text-align: right;\">\n",
       "      <th></th>\n",
       "      <th>FID</th>\n",
       "      <th>geometry</th>\n",
       "    </tr>\n",
       "  </thead>\n",
       "  <tbody>\n",
       "    <tr>\n",
       "      <th>0</th>\n",
       "      <td>0</td>\n",
       "      <td>POLYGON ((-4.23660 5.41735, -4.23670 5.41735, ...</td>\n",
       "    </tr>\n",
       "    <tr>\n",
       "      <th>1</th>\n",
       "      <td>1</td>\n",
       "      <td>POLYGON ((-4.23717 5.41734, -4.23727 5.41734, ...</td>\n",
       "    </tr>\n",
       "    <tr>\n",
       "      <th>2</th>\n",
       "      <td>2</td>\n",
       "      <td>POLYGON ((-4.23709 5.41674, -4.23719 5.41674, ...</td>\n",
       "    </tr>\n",
       "    <tr>\n",
       "      <th>3</th>\n",
       "      <td>3</td>\n",
       "      <td>POLYGON ((-4.23688 5.41670, -4.23698 5.41670, ...</td>\n",
       "    </tr>\n",
       "    <tr>\n",
       "      <th>4</th>\n",
       "      <td>4</td>\n",
       "      <td>POLYGON ((-4.23731 5.41693, -4.23741 5.41693, ...</td>\n",
       "    </tr>\n",
       "    <tr>\n",
       "      <th>...</th>\n",
       "      <td>...</td>\n",
       "      <td>...</td>\n",
       "    </tr>\n",
       "    <tr>\n",
       "      <th>10003</th>\n",
       "      <td>213</td>\n",
       "      <td>POLYGON ((-4.24117 5.41725, -4.24127 5.41725, ...</td>\n",
       "    </tr>\n",
       "    <tr>\n",
       "      <th>10004</th>\n",
       "      <td>0</td>\n",
       "      <td>POLYGON ((-4.23366 5.41947, -4.23376 5.41947, ...</td>\n",
       "    </tr>\n",
       "    <tr>\n",
       "      <th>10005</th>\n",
       "      <td>1</td>\n",
       "      <td>POLYGON ((-4.23354 5.41957, -4.23364 5.41957, ...</td>\n",
       "    </tr>\n",
       "    <tr>\n",
       "      <th>10006</th>\n",
       "      <td>2</td>\n",
       "      <td>POLYGON ((-4.23350 5.41939, -4.23360 5.41939, ...</td>\n",
       "    </tr>\n",
       "    <tr>\n",
       "      <th>10007</th>\n",
       "      <td>3</td>\n",
       "      <td>POLYGON ((-4.23351 5.41939, -4.23361 5.41939, ...</td>\n",
       "    </tr>\n",
       "  </tbody>\n",
       "</table>\n",
       "<p>10008 rows × 2 columns</p>\n",
       "</div>"
      ],
      "text/plain": [
       "       FID                                           geometry\n",
       "0        0  POLYGON ((-4.23660 5.41735, -4.23670 5.41735, ...\n",
       "1        1  POLYGON ((-4.23717 5.41734, -4.23727 5.41734, ...\n",
       "2        2  POLYGON ((-4.23709 5.41674, -4.23719 5.41674, ...\n",
       "3        3  POLYGON ((-4.23688 5.41670, -4.23698 5.41670, ...\n",
       "4        4  POLYGON ((-4.23731 5.41693, -4.23741 5.41693, ...\n",
       "...    ...                                                ...\n",
       "10003  213  POLYGON ((-4.24117 5.41725, -4.24127 5.41725, ...\n",
       "10004    0  POLYGON ((-4.23366 5.41947, -4.23376 5.41947, ...\n",
       "10005    1  POLYGON ((-4.23354 5.41957, -4.23364 5.41957, ...\n",
       "10006    2  POLYGON ((-4.23350 5.41939, -4.23360 5.41939, ...\n",
       "10007    3  POLYGON ((-4.23351 5.41939, -4.23361 5.41939, ...\n",
       "\n",
       "[10008 rows x 2 columns]"
      ]
     },
     "execution_count": 162,
     "metadata": {},
     "output_type": "execute_result"
    }
   ],
   "source": [
    "df # So we have recognized a total of 10008 palm trees!"
   ]
  },
  {
   "cell_type": "code",
   "execution_count": 163,
   "id": "189d0734",
   "metadata": {},
   "outputs": [],
   "source": [
    "gdf = gpd.GeoDataFrame(df)"
   ]
  },
  {
   "cell_type": "code",
   "execution_count": 164,
   "id": "34bbd8a6",
   "metadata": {
    "scrolled": true
   },
   "outputs": [
    {
     "data": {
      "text/plain": [
       "<Axes: >"
      ]
     },
     "execution_count": 164,
     "metadata": {},
     "output_type": "execute_result"
    },
    {
     "data": {
      "image/png": "[encoded data removed]",
      "text/plain": [
       "<Figure size 640x480 with 1 Axes>"
      ]
     },
     "metadata": {},
     "output_type": "display_data"
    }
   ],
   "source": [
    "gdf.plot()"
   ]
  },
  {
   "cell_type": "markdown",
   "id": "b5c4fdba",
   "metadata": {},
   "source": [
    "# Cleaning out of bounds predictions"
   ]
  },
  {
   "cell_type": "code",
   "execution_count": 171,
   "id": "ffbd8281",
   "metadata": {},
   "outputs": [],
   "source": [
    "with rio.open(\"/Users/nischalsingh/projects/ultralytics/preprocessing_data/8bit/oil_palm_8bit.tif\") as src:\n",
    "    data_bounds = src.bounds"
   ]
  },
  {
   "cell_type": "code",
   "execution_count": 172,
   "id": "4d2cf8e4",
   "metadata": {
    "scrolled": true
   },
   "outputs": [
    {
     "data": {
      "image/svg+xml": [
       "<svg xmlns=\"http://www.w3.org/2000/svg\" xmlns:xlink=\"http://www.w3.org/1999/xlink\" width=\"100.0\" height=\"100.0\" viewBox=\"-4.243748736057899 5.413600806575193 0.010007399939639505 0.00784118122921118\" preserveAspectRatio=\"xMinYMin meet\"><g transform=\"matrix(1,0,0,-1,0,10.835042794379596)\"><path fill-rule=\"evenodd\" fill=\"#66cc99\" stroke=\"#555555\" stroke-width=\"0.0002001479987927901\" opacity=\"0.6\" d=\"M -4.234111980560469,5.413971451017402 L -4.234111980560469,5.421071343362195 L -4.24337809161569,5.421071343362195 L -4.24337809161569,5.413971451017402 L -4.234111980560469,5.413971451017402 z\" /></g></svg>"
      ],
      "text/plain": [
       "<POLYGON ((-4.234 5.414, -4.234 5.421, -4.243 5.421, -4.243 5.414, -4.234 5....>"
      ]
     },
     "execution_count": 172,
     "metadata": {},
     "output_type": "execute_result"
    }
   ],
   "source": [
    "data_extent = box(data_bounds.left, data_bounds.bottom, data_bounds.right, data_bounds.top)\n",
    "data_extent"
   ]
  },
  {
   "cell_type": "code",
   "execution_count": 173,
   "id": "8c7dac67",
   "metadata": {
    "scrolled": true
   },
   "outputs": [
    {
     "data": {
      "text/html": [
       "<div>\n",
       "<style scoped>\n",
       "    .dataframe tbody tr th:only-of-type {\n",
       "        vertical-align: middle;\n",
       "    }\n",
       "\n",
       "    .dataframe tbody tr th {\n",
       "        vertical-align: top;\n",
       "    }\n",
       "\n",
       "    .dataframe thead th {\n",
       "        text-align: right;\n",
       "    }\n",
       "</style>\n",
       "<table border=\"1\" class=\"dataframe\">\n",
       "  <thead>\n",
       "    <tr style=\"text-align: right;\">\n",
       "      <th></th>\n",
       "      <th>FID</th>\n",
       "      <th>geometry</th>\n",
       "    </tr>\n",
       "  </thead>\n",
       "  <tbody>\n",
       "    <tr>\n",
       "      <th>0</th>\n",
       "      <td>0</td>\n",
       "      <td>POLYGON ((-4.23660 5.41735, -4.23670 5.41735, ...</td>\n",
       "    </tr>\n",
       "    <tr>\n",
       "      <th>1</th>\n",
       "      <td>1</td>\n",
       "      <td>POLYGON ((-4.23717 5.41734, -4.23727 5.41734, ...</td>\n",
       "    </tr>\n",
       "    <tr>\n",
       "      <th>2</th>\n",
       "      <td>2</td>\n",
       "      <td>POLYGON ((-4.23709 5.41674, -4.23719 5.41674, ...</td>\n",
       "    </tr>\n",
       "    <tr>\n",
       "      <th>3</th>\n",
       "      <td>3</td>\n",
       "      <td>POLYGON ((-4.23688 5.41670, -4.23698 5.41670, ...</td>\n",
       "    </tr>\n",
       "    <tr>\n",
       "      <th>4</th>\n",
       "      <td>4</td>\n",
       "      <td>POLYGON ((-4.23731 5.41693, -4.23741 5.41693, ...</td>\n",
       "    </tr>\n",
       "    <tr>\n",
       "      <th>...</th>\n",
       "      <td>...</td>\n",
       "      <td>...</td>\n",
       "    </tr>\n",
       "    <tr>\n",
       "      <th>9999</th>\n",
       "      <td>209</td>\n",
       "      <td>POLYGON ((-4.24159 5.41699, -4.24169 5.41699, ...</td>\n",
       "    </tr>\n",
       "    <tr>\n",
       "      <th>10000</th>\n",
       "      <td>210</td>\n",
       "      <td>POLYGON ((-4.24195 5.41651, -4.24205 5.41651, ...</td>\n",
       "    </tr>\n",
       "    <tr>\n",
       "      <th>10001</th>\n",
       "      <td>211</td>\n",
       "      <td>POLYGON ((-4.24138 5.41730, -4.24148 5.41730, ...</td>\n",
       "    </tr>\n",
       "    <tr>\n",
       "      <th>10002</th>\n",
       "      <td>212</td>\n",
       "      <td>POLYGON ((-4.24125 5.41761, -4.24135 5.41761, ...</td>\n",
       "    </tr>\n",
       "    <tr>\n",
       "      <th>10003</th>\n",
       "      <td>213</td>\n",
       "      <td>POLYGON ((-4.24117 5.41725, -4.24127 5.41725, ...</td>\n",
       "    </tr>\n",
       "  </tbody>\n",
       "</table>\n",
       "<p>9650 rows × 2 columns</p>\n",
       "</div>"
      ],
      "text/plain": [
       "       FID                                           geometry\n",
       "0        0  POLYGON ((-4.23660 5.41735, -4.23670 5.41735, ...\n",
       "1        1  POLYGON ((-4.23717 5.41734, -4.23727 5.41734, ...\n",
       "2        2  POLYGON ((-4.23709 5.41674, -4.23719 5.41674, ...\n",
       "3        3  POLYGON ((-4.23688 5.41670, -4.23698 5.41670, ...\n",
       "4        4  POLYGON ((-4.23731 5.41693, -4.23741 5.41693, ...\n",
       "...    ...                                                ...\n",
       "9999   209  POLYGON ((-4.24159 5.41699, -4.24169 5.41699, ...\n",
       "10000  210  POLYGON ((-4.24195 5.41651, -4.24205 5.41651, ...\n",
       "10001  211  POLYGON ((-4.24138 5.41730, -4.24148 5.41730, ...\n",
       "10002  212  POLYGON ((-4.24125 5.41761, -4.24135 5.41761, ...\n",
       "10003  213  POLYGON ((-4.24117 5.41725, -4.24127 5.41725, ...\n",
       "\n",
       "[9650 rows x 2 columns]"
      ]
     },
     "execution_count": 173,
     "metadata": {},
     "output_type": "execute_result"
    }
   ],
   "source": [
    "filtered_polygons = gdf[gdf.geometry.intersects(data_extent)]\n",
    "filtered_polygons"
   ]
  },
  {
   "cell_type": "markdown",
   "id": "31057967",
   "metadata": {},
   "source": [
    "### We have identified a total of 10003 Palm Trees!"
   ]
  },
  {
   "cell_type": "code",
   "execution_count": 176,
   "id": "e933c3c9",
   "metadata": {},
   "outputs": [],
   "source": [
    "filtered_polygons.to_file(\"results/prediction.shp\", driver=\"ESRI Shapefile\")"
   ]
  }
 ],
 "metadata": {
  "kernelspec": {
   "display_name": "Python 3 (ipykernel)",
   "language": "python",
   "name": "python3"
  },
  "language_info": {
   "codemirror_mode": {
    "name": "ipython",
    "version": 3
   },
   "file_extension": ".py",
   "mimetype": "text/x-python",
   "name": "python",
   "nbconvert_exporter": "python",
   "pygments_lexer": "ipython3",
   "version": "3.11.9"
  }
 },
 "nbformat": 4,
 "nbformat_minor": 5
}
