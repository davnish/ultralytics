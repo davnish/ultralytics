{
 "cells": [
  {
   "cell_type": "code",
   "execution_count": 20,
   "id": "04d410b0",
   "metadata": {},
   "outputs": [],
   "source": [
    "import rasterio as rio\n",
    "from rasterio.plot import show\n",
    "import matplotlib.pyplot as plt\n",
    "from shapely.geometry import Point\n",
    "import geopandas as gpd\n",
    "import numpy as np"
   ]
  },
  {
   "cell_type": "code",
   "execution_count": 12,
   "id": "5f0bcb0c",
   "metadata": {
    "scrolled": true
   },
   "outputs": [],
   "source": [
    "with rio.open(\"preprocessing_data/8bit/clipped.tif\") as src:\n",
    "    data = src.read()\n",
    "    transform = src.transform"
   ]
  },
  {
   "cell_type": "code",
   "execution_count": 8,
   "id": "35a47c3c",
   "metadata": {
    "scrolled": true
   },
   "outputs": [],
   "source": [
    "# This will get us the centroids of the clipped raster for every Pixel\n",
    "centroids = []\n",
    "x = []\n",
    "y = []\n",
    "for row in range(data.shape[1]):\n",
    "    for col in range(data.shape[2]):\n",
    "        centroids.append(Point(transform * (col+0.5, row+0.5)))\n",
    "#         idx.append((col, row))\n",
    "        x.append(col)\n",
    "        y.append(row)\n",
    "        "
   ]
  },
  {
   "cell_type": "code",
   "execution_count": 9,
   "id": "d381b859",
   "metadata": {},
   "outputs": [],
   "source": [
    "gdf_pt = gpd.GeoDataFrame(geometry = centroids)"
   ]
  },
  {
   "cell_type": "code",
   "execution_count": 10,
   "id": "998f3201",
   "metadata": {},
   "outputs": [],
   "source": [
    "gdf_pt['x'] = x\n",
    "gdf_pt['y'] = y"
   ]
  },
  {
   "cell_type": "code",
   "execution_count": 83,
   "id": "aaed0143",
   "metadata": {
    "scrolled": true
   },
   "outputs": [
    {
     "data": {
      "text/html": [
       "<div>\n",
       "<style scoped>\n",
       "    .dataframe tbody tr th:only-of-type {\n",
       "        vertical-align: middle;\n",
       "    }\n",
       "\n",
       "    .dataframe tbody tr th {\n",
       "        vertical-align: top;\n",
       "    }\n",
       "\n",
       "    .dataframe thead th {\n",
       "        text-align: right;\n",
       "    }\n",
       "</style>\n",
       "<table border=\"1\" class=\"dataframe\">\n",
       "  <thead>\n",
       "    <tr style=\"text-align: right;\">\n",
       "      <th></th>\n",
       "      <th>geometry</th>\n",
       "      <th>x</th>\n",
       "      <th>y</th>\n",
       "    </tr>\n",
       "  </thead>\n",
       "  <tbody>\n",
       "    <tr>\n",
       "      <th>0</th>\n",
       "      <td>POINT (-4.24337 5.42055)</td>\n",
       "      <td>0</td>\n",
       "      <td>0</td>\n",
       "    </tr>\n",
       "    <tr>\n",
       "      <th>1</th>\n",
       "      <td>POINT (-4.24336 5.42055)</td>\n",
       "      <td>1</td>\n",
       "      <td>0</td>\n",
       "    </tr>\n",
       "    <tr>\n",
       "      <th>2</th>\n",
       "      <td>POINT (-4.24336 5.42055)</td>\n",
       "      <td>2</td>\n",
       "      <td>0</td>\n",
       "    </tr>\n",
       "    <tr>\n",
       "      <th>3</th>\n",
       "      <td>POINT (-4.24335 5.42055)</td>\n",
       "      <td>3</td>\n",
       "      <td>0</td>\n",
       "    </tr>\n",
       "    <tr>\n",
       "      <th>4</th>\n",
       "      <td>POINT (-4.24335 5.42055)</td>\n",
       "      <td>4</td>\n",
       "      <td>0</td>\n",
       "    </tr>\n",
       "    <tr>\n",
       "      <th>...</th>\n",
       "      <td>...</td>\n",
       "      <td>...</td>\n",
       "      <td>...</td>\n",
       "    </tr>\n",
       "    <tr>\n",
       "      <th>526819</th>\n",
       "      <td>POINT (-4.23909 5.41816)</td>\n",
       "      <td>967</td>\n",
       "      <td>541</td>\n",
       "    </tr>\n",
       "    <tr>\n",
       "      <th>526820</th>\n",
       "      <td>POINT (-4.23909 5.41816)</td>\n",
       "      <td>968</td>\n",
       "      <td>541</td>\n",
       "    </tr>\n",
       "    <tr>\n",
       "      <th>526821</th>\n",
       "      <td>POINT (-4.23908 5.41816)</td>\n",
       "      <td>969</td>\n",
       "      <td>541</td>\n",
       "    </tr>\n",
       "    <tr>\n",
       "      <th>526822</th>\n",
       "      <td>POINT (-4.23908 5.41816)</td>\n",
       "      <td>970</td>\n",
       "      <td>541</td>\n",
       "    </tr>\n",
       "    <tr>\n",
       "      <th>526823</th>\n",
       "      <td>POINT (-4.23907 5.41816)</td>\n",
       "      <td>971</td>\n",
       "      <td>541</td>\n",
       "    </tr>\n",
       "  </tbody>\n",
       "</table>\n",
       "<p>526824 rows × 3 columns</p>\n",
       "</div>"
      ],
      "text/plain": [
       "                        geometry    x    y\n",
       "0       POINT (-4.24337 5.42055)    0    0\n",
       "1       POINT (-4.24336 5.42055)    1    0\n",
       "2       POINT (-4.24336 5.42055)    2    0\n",
       "3       POINT (-4.24335 5.42055)    3    0\n",
       "4       POINT (-4.24335 5.42055)    4    0\n",
       "...                          ...  ...  ...\n",
       "526819  POINT (-4.23909 5.41816)  967  541\n",
       "526820  POINT (-4.23909 5.41816)  968  541\n",
       "526821  POINT (-4.23908 5.41816)  969  541\n",
       "526822  POINT (-4.23908 5.41816)  970  541\n",
       "526823  POINT (-4.23907 5.41816)  971  541\n",
       "\n",
       "[526824 rows x 3 columns]"
      ]
     },
     "execution_count": 83,
     "metadata": {},
     "output_type": "execute_result"
    }
   ],
   "source": [
    "gdf_pt"
   ]
  },
  {
   "cell_type": "code",
   "execution_count": 540,
   "id": "f4d2c65e",
   "metadata": {},
   "outputs": [],
   "source": [
    "gdf_pt.drop(columns='idx', inplace = True)"
   ]
  },
  {
   "cell_type": "code",
   "execution_count": 542,
   "id": "acea70a8",
   "metadata": {
    "scrolled": true
   },
   "outputs": [],
   "source": [
    "# gdf_pt.to_file('data/preprocessing_data/centroid_raster.shp', driver=\"ESRI Shapefile\", ignore_index = True)"
   ]
  },
  {
   "cell_type": "markdown",
   "id": "5468683f",
   "metadata": {},
   "source": [
    "# Dataset Creation"
   ]
  },
  {
   "cell_type": "code",
   "execution_count": 21,
   "id": "7033f14d",
   "metadata": {
    "scrolled": true
   },
   "outputs": [],
   "source": [
    "gdf = gpd.read_file(\"preprocessing_data/labels/OilPalm-tree-buffer.shp\")"
   ]
  },
  {
   "cell_type": "code",
   "execution_count": 27,
   "id": "f0dc0330",
   "metadata": {},
   "outputs": [
    {
     "name": "stderr",
     "output_type": "stream",
     "text": [
      "/var/folders/83/ypn030093497vyfy0wz4lyqc0000gn/T/ipykernel_68722/1614308611.py:1: UserWarning: Geometry is in a geographic CRS. Results from 'centroid' are likely incorrect. Use 'GeoSeries.to_crs()' to re-project geometries to a projected CRS before this operation.\n",
      "\n",
      "  gdf['centroid'] = gdf['geometry'].centroid\n"
     ]
    }
   ],
   "source": [
    "gdf['centroid'] = gdf['geometry'].centroid"
   ]
  },
  {
   "cell_type": "code",
   "execution_count": 28,
   "id": "705c7c74",
   "metadata": {},
   "outputs": [
    {
     "data": {
      "text/html": [
       "<div>\n",
       "<style scoped>\n",
       "    .dataframe tbody tr th:only-of-type {\n",
       "        vertical-align: middle;\n",
       "    }\n",
       "\n",
       "    .dataframe tbody tr th {\n",
       "        vertical-align: top;\n",
       "    }\n",
       "\n",
       "    .dataframe thead th {\n",
       "        text-align: right;\n",
       "    }\n",
       "</style>\n",
       "<table border=\"1\" class=\"dataframe\">\n",
       "  <thead>\n",
       "    <tr style=\"text-align: right;\">\n",
       "      <th></th>\n",
       "      <th>id</th>\n",
       "      <th>geometry</th>\n",
       "      <th>centroid</th>\n",
       "    </tr>\n",
       "  </thead>\n",
       "  <tbody>\n",
       "    <tr>\n",
       "      <th>0</th>\n",
       "      <td>1.0</td>\n",
       "      <td>POLYGON ((-4.23940 5.42038, -4.23940 5.42037, ...</td>\n",
       "      <td>POINT (-4.23944 5.42038)</td>\n",
       "    </tr>\n",
       "    <tr>\n",
       "      <th>1</th>\n",
       "      <td>2.0</td>\n",
       "      <td>POLYGON ((-4.23941 5.42023, -4.23941 5.42021, ...</td>\n",
       "      <td>POINT (-4.23945 5.42023)</td>\n",
       "    </tr>\n",
       "    <tr>\n",
       "      <th>2</th>\n",
       "      <td>3.0</td>\n",
       "      <td>POLYGON ((-4.23933 5.42027, -4.23933 5.42026, ...</td>\n",
       "      <td>POINT (-4.23937 5.42027)</td>\n",
       "    </tr>\n",
       "    <tr>\n",
       "      <th>3</th>\n",
       "      <td>1.0</td>\n",
       "      <td>POLYGON ((-4.23934 5.42042, -4.23935 5.42041, ...</td>\n",
       "      <td>POINT (-4.23938 5.42042)</td>\n",
       "    </tr>\n",
       "    <tr>\n",
       "      <th>4</th>\n",
       "      <td>1.0</td>\n",
       "      <td>POLYGON ((-4.23927 5.42039, -4.23927 5.42038, ...</td>\n",
       "      <td>POINT (-4.23931 5.42039)</td>\n",
       "    </tr>\n",
       "    <tr>\n",
       "      <th>...</th>\n",
       "      <td>...</td>\n",
       "      <td>...</td>\n",
       "      <td>...</td>\n",
       "    </tr>\n",
       "    <tr>\n",
       "      <th>1277</th>\n",
       "      <td>NaN</td>\n",
       "      <td>POLYGON ((-4.24093 5.41857, -4.24093 5.41855, ...</td>\n",
       "      <td>POINT (-4.24097 5.41857)</td>\n",
       "    </tr>\n",
       "    <tr>\n",
       "      <th>1278</th>\n",
       "      <td>NaN</td>\n",
       "      <td>POLYGON ((-4.24087 5.41861, -4.24087 5.41860, ...</td>\n",
       "      <td>POINT (-4.24091 5.41861)</td>\n",
       "    </tr>\n",
       "    <tr>\n",
       "      <th>1279</th>\n",
       "      <td>NaN</td>\n",
       "      <td>POLYGON ((-4.24093 5.41849, -4.24093 5.41848, ...</td>\n",
       "      <td>POINT (-4.24097 5.41849)</td>\n",
       "    </tr>\n",
       "    <tr>\n",
       "      <th>1280</th>\n",
       "      <td>NaN</td>\n",
       "      <td>POLYGON ((-4.24094 5.41939, -4.24094 5.41938, ...</td>\n",
       "      <td>POINT (-4.24098 5.41939)</td>\n",
       "    </tr>\n",
       "    <tr>\n",
       "      <th>1281</th>\n",
       "      <td>NaN</td>\n",
       "      <td>POLYGON ((-4.24087 5.41909, -4.24087 5.41908, ...</td>\n",
       "      <td>POINT (-4.24091 5.41909)</td>\n",
       "    </tr>\n",
       "  </tbody>\n",
       "</table>\n",
       "<p>1282 rows × 3 columns</p>\n",
       "</div>"
      ],
      "text/plain": [
       "       id                                           geometry  \\\n",
       "0     1.0  POLYGON ((-4.23940 5.42038, -4.23940 5.42037, ...   \n",
       "1     2.0  POLYGON ((-4.23941 5.42023, -4.23941 5.42021, ...   \n",
       "2     3.0  POLYGON ((-4.23933 5.42027, -4.23933 5.42026, ...   \n",
       "3     1.0  POLYGON ((-4.23934 5.42042, -4.23935 5.42041, ...   \n",
       "4     1.0  POLYGON ((-4.23927 5.42039, -4.23927 5.42038, ...   \n",
       "...   ...                                                ...   \n",
       "1277  NaN  POLYGON ((-4.24093 5.41857, -4.24093 5.41855, ...   \n",
       "1278  NaN  POLYGON ((-4.24087 5.41861, -4.24087 5.41860, ...   \n",
       "1279  NaN  POLYGON ((-4.24093 5.41849, -4.24093 5.41848, ...   \n",
       "1280  NaN  POLYGON ((-4.24094 5.41939, -4.24094 5.41938, ...   \n",
       "1281  NaN  POLYGON ((-4.24087 5.41909, -4.24087 5.41908, ...   \n",
       "\n",
       "                      centroid  \n",
       "0     POINT (-4.23944 5.42038)  \n",
       "1     POINT (-4.23945 5.42023)  \n",
       "2     POINT (-4.23937 5.42027)  \n",
       "3     POINT (-4.23938 5.42042)  \n",
       "4     POINT (-4.23931 5.42039)  \n",
       "...                        ...  \n",
       "1277  POINT (-4.24097 5.41857)  \n",
       "1278  POINT (-4.24091 5.41861)  \n",
       "1279  POINT (-4.24097 5.41849)  \n",
       "1280  POINT (-4.24098 5.41939)  \n",
       "1281  POINT (-4.24091 5.41909)  \n",
       "\n",
       "[1282 rows x 3 columns]"
      ]
     },
     "execution_count": 28,
     "metadata": {},
     "output_type": "execute_result"
    }
   ],
   "source": [
    "gdf"
   ]
  },
  {
   "cell_type": "markdown",
   "id": "18e74080",
   "metadata": {},
   "source": [
    "# Finding Closest Point to centroids"
   ]
  },
  {
   "cell_type": "code",
   "execution_count": 29,
   "id": "fab8cce1",
   "metadata": {},
   "outputs": [],
   "source": [
    "closest = []\n",
    "for x, y in zip(gdf[\"centroid\"].x, gdf[\"centroid\"].y):\n",
    "    ed = np.sqrt((gdf_pt.geometry.x - x)**2 + (gdf_pt.geometry.y - y)**2)\n",
    "    idx = np.argmin(ed)\n",
    "    closest.append(idx)"
   ]
  },
  {
   "cell_type": "code",
   "execution_count": 31,
   "id": "228d713a",
   "metadata": {},
   "outputs": [],
   "source": [
    "gdf_pt.iloc[closest, :].to_file(\"preprocessing_data/inter/closest_point.shp\", driver=\"ESRI Shapefile\", ignore_index= True)"
   ]
  },
  {
   "cell_type": "code",
   "execution_count": 32,
   "id": "fc226eaa",
   "metadata": {},
   "outputs": [],
   "source": [
    "# gdf_pt[gdf_pt.iloc[closest, :].geometry.y < 5.4183013  ]\n",
    "closest_pt = gdf_pt.iloc[closest, :]"
   ]
  },
  {
   "cell_type": "markdown",
   "id": "c7bf1085",
   "metadata": {},
   "source": [
    "# Dividing the dataset into patches"
   ]
  },
  {
   "cell_type": "code",
   "execution_count": 39,
   "id": "3080ab4c",
   "metadata": {
    "scrolled": true
   },
   "outputs": [],
   "source": [
    "###\n",
    "###\n",
    "### This is done through qgis\n",
    "### the clipped image is divided into 256x256 patches"
   ]
  },
  {
   "cell_type": "markdown",
   "id": "5cd9ce46",
   "metadata": {},
   "source": [
    "# Removing the edge labels"
   ]
  },
  {
   "cell_type": "code",
   "execution_count": 82,
   "id": "ca64f732",
   "metadata": {
    "scrolled": true
   },
   "outputs": [
    {
     "name": "stdout",
     "output_type": "stream",
     "text": [
      "('preprocessing_data/8bit/patched', '8bit.6.tif')\n",
      "('preprocessing_data/8bit/patched', '8bit.7.tif')\n",
      "('preprocessing_data/8bit/patched', '8bit.5.tif')\n",
      "('preprocessing_data/8bit/patched', '8bit.4.tif')\n",
      "('preprocessing_data/8bit/patched', '8bit.0.tif')\n",
      "('preprocessing_data/8bit/patched', '8bit.1.tif')\n",
      "('preprocessing_data/8bit/patched', '8bit.3.tif')\n",
      "('preprocessing_data/8bit/patched', '8bit.2.tif')\n"
     ]
    }
   ],
   "source": [
    "import glob\n",
    "import os\n",
    "for i in glob.glob(\"preprocessing_data/8bit/patched/*.tif\"):\n",
    "    print((os.path.split(i)))\n",
    "\n",
    "    with rio.open(i) as src:\n",
    "        data_patch = src.read()\n",
    "        data_transform = src.profile\n",
    "        \n",
    "    file_name = os.path.splitext(os.path.split(i)[1])[0]\n",
    "    \n",
    "    lower_ext = data_transform['transform'] * (9,9)\n",
    "    higher_ext = data_transform['transform'] * (data_patch.shape[2]-9,data_patch.shape[1]-9)\n",
    "    closest_pt[(closest_pt.geometry.x > lower_ext[0]) & (closest_pt.geometry.x <= higher_ext[0]) & (closest_pt.geometry.y <= lower_ext[1]) & (closest_pt.geometry.y >= higher_ext[1])].to_file(f\"preprocessing_data/inter/patch_shp/{file_name}.shp\", driver=\"ESRI Shapefile\")    "
   ]
  }
 ],
 "metadata": {
  "kernelspec": {
   "display_name": "Python 3 (ipykernel)",
   "language": "python",
   "name": "python3"
  },
  "language_info": {
   "codemirror_mode": {
    "name": "ipython",
    "version": 3
   },
   "file_extension": ".py",
   "mimetype": "text/x-python",
   "name": "python",
   "nbconvert_exporter": "python",
   "pygments_lexer": "ipython3",
   "version": "3.11.9"
  }
 },
 "nbformat": 4,
 "nbformat_minor": 5
}
