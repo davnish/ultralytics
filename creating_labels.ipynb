{
 "cells": [
  {
   "cell_type": "code",
   "execution_count": 2,
   "id": "ac0894d3",
   "metadata": {},
   "outputs": [],
   "source": [
    "import geopandas as gpd\n",
    "import glob\n",
    "import os"
   ]
  },
  {
   "cell_type": "code",
   "execution_count": 21,
   "id": "42307df8",
   "metadata": {},
   "outputs": [],
   "source": [
    "gdf = gpd.read_file(\"preprocessing_data/inter/patch_shp/8bit.4.shp\")"
   ]
  },
  {
   "cell_type": "code",
   "execution_count": 24,
   "id": "75dd6a69",
   "metadata": {},
   "outputs": [
    {
     "data": {
      "text/plain": [
       "18"
      ]
     },
     "execution_count": 24,
     "metadata": {},
     "output_type": "execute_result"
    }
   ],
   "source": [
    "gdf.x.min()"
   ]
  },
  {
   "cell_type": "code",
   "execution_count": 13,
   "id": "48645383",
   "metadata": {
    "scrolled": true
   },
   "outputs": [
    {
     "data": {
      "text/html": [
       "<div>\n",
       "<style scoped>\n",
       "    .dataframe tbody tr th:only-of-type {\n",
       "        vertical-align: middle;\n",
       "    }\n",
       "\n",
       "    .dataframe tbody tr th {\n",
       "        vertical-align: top;\n",
       "    }\n",
       "\n",
       "    .dataframe thead th {\n",
       "        text-align: right;\n",
       "    }\n",
       "</style>\n",
       "<table border=\"1\" class=\"dataframe\">\n",
       "  <thead>\n",
       "    <tr style=\"text-align: right;\">\n",
       "      <th></th>\n",
       "      <th>x</th>\n",
       "      <th>y</th>\n",
       "      <th>geometry</th>\n",
       "    </tr>\n",
       "  </thead>\n",
       "  <tbody>\n",
       "    <tr>\n",
       "      <th>0</th>\n",
       "      <td>888</td>\n",
       "      <td>33</td>\n",
       "      <td>POINT (-4.23944 5.42038)</td>\n",
       "    </tr>\n",
       "    <tr>\n",
       "      <th>1</th>\n",
       "      <td>887</td>\n",
       "      <td>68</td>\n",
       "      <td>POINT (-4.23945 5.42023)</td>\n",
       "    </tr>\n",
       "    <tr>\n",
       "      <th>2</th>\n",
       "      <td>904</td>\n",
       "      <td>58</td>\n",
       "      <td>POINT (-4.23937 5.42027)</td>\n",
       "    </tr>\n",
       "    <tr>\n",
       "      <th>3</th>\n",
       "      <td>901</td>\n",
       "      <td>25</td>\n",
       "      <td>POINT (-4.23938 5.42042)</td>\n",
       "    </tr>\n",
       "    <tr>\n",
       "      <th>4</th>\n",
       "      <td>918</td>\n",
       "      <td>32</td>\n",
       "      <td>POINT (-4.23931 5.42039)</td>\n",
       "    </tr>\n",
       "    <tr>\n",
       "      <th>...</th>\n",
       "      <td>...</td>\n",
       "      <td>...</td>\n",
       "      <td>...</td>\n",
       "    </tr>\n",
       "    <tr>\n",
       "      <th>612</th>\n",
       "      <td>542</td>\n",
       "      <td>444</td>\n",
       "      <td>POINT (-4.24097 5.41857)</td>\n",
       "    </tr>\n",
       "    <tr>\n",
       "      <th>613</th>\n",
       "      <td>556</td>\n",
       "      <td>434</td>\n",
       "      <td>POINT (-4.24091 5.41861)</td>\n",
       "    </tr>\n",
       "    <tr>\n",
       "      <th>614</th>\n",
       "      <td>543</td>\n",
       "      <td>461</td>\n",
       "      <td>POINT (-4.24097 5.41849)</td>\n",
       "    </tr>\n",
       "    <tr>\n",
       "      <th>615</th>\n",
       "      <td>540</td>\n",
       "      <td>258</td>\n",
       "      <td>POINT (-4.24098 5.41939)</td>\n",
       "    </tr>\n",
       "    <tr>\n",
       "      <th>616</th>\n",
       "      <td>556</td>\n",
       "      <td>325</td>\n",
       "      <td>POINT (-4.24091 5.41909)</td>\n",
       "    </tr>\n",
       "  </tbody>\n",
       "</table>\n",
       "<p>617 rows × 3 columns</p>\n",
       "</div>"
      ],
      "text/plain": [
       "       x    y                  geometry\n",
       "0    888   33  POINT (-4.23944 5.42038)\n",
       "1    887   68  POINT (-4.23945 5.42023)\n",
       "2    904   58  POINT (-4.23937 5.42027)\n",
       "3    901   25  POINT (-4.23938 5.42042)\n",
       "4    918   32  POINT (-4.23931 5.42039)\n",
       "..   ...  ...                       ...\n",
       "612  542  444  POINT (-4.24097 5.41857)\n",
       "613  556  434  POINT (-4.24091 5.41861)\n",
       "614  543  461  POINT (-4.24097 5.41849)\n",
       "615  540  258  POINT (-4.24098 5.41939)\n",
       "616  556  325  POINT (-4.24091 5.41909)\n",
       "\n",
       "[617 rows x 3 columns]"
      ]
     },
     "execution_count": 13,
     "metadata": {},
     "output_type": "execute_result"
    }
   ],
   "source": [
    "gdf_data0"
   ]
  },
  {
   "cell_type": "code",
   "execution_count": 7,
   "id": "51dd5336",
   "metadata": {},
   "outputs": [],
   "source": [
    "gdf_data0['width'] = 18/256 # Assuming the bbox of every palm tree to be 9x9 pixels\n",
    "gdf_data0['height'] = 18/256"
   ]
  },
  {
   "cell_type": "code",
   "execution_count": 15,
   "id": "a9625f68",
   "metadata": {
    "scrolled": true
   },
   "outputs": [],
   "source": [
    "gdf_data0['x'] = (gdf_data0.loc[:, 'x']- 256 * i)/256\n",
    "gdf_data0['y'] = (gdf_data0.loc[:, 'y'])/256"
   ]
  },
  {
   "cell_type": "code",
   "execution_count": 16,
   "id": "70babcce",
   "metadata": {
    "scrolled": false
   },
   "outputs": [],
   "source": [
    "gdf_data0.drop(columns= 'geometry', inplace = True)"
   ]
  },
  {
   "cell_type": "code",
   "execution_count": 17,
   "id": "6c7b7e23",
   "metadata": {},
   "outputs": [],
   "source": [
    "gdf_data0['class'] = 0"
   ]
  },
  {
   "cell_type": "code",
   "execution_count": 18,
   "id": "08162978",
   "metadata": {
    "scrolled": true
   },
   "outputs": [],
   "source": [
    "gdf_data0 = gdf_data0.reindex(columns= ['class', 'x', 'y', 'width', 'height'])"
   ]
  },
  {
   "cell_type": "code",
   "execution_count": 19,
   "id": "11616218",
   "metadata": {},
   "outputs": [
    {
     "data": {
      "text/html": [
       "<div>\n",
       "<style scoped>\n",
       "    .dataframe tbody tr th:only-of-type {\n",
       "        vertical-align: middle;\n",
       "    }\n",
       "\n",
       "    .dataframe tbody tr th {\n",
       "        vertical-align: top;\n",
       "    }\n",
       "\n",
       "    .dataframe thead th {\n",
       "        text-align: right;\n",
       "    }\n",
       "</style>\n",
       "<table border=\"1\" class=\"dataframe\">\n",
       "  <thead>\n",
       "    <tr style=\"text-align: right;\">\n",
       "      <th></th>\n",
       "      <th>class</th>\n",
       "      <th>x</th>\n",
       "      <th>y</th>\n",
       "      <th>width</th>\n",
       "      <th>height</th>\n",
       "    </tr>\n",
       "  </thead>\n",
       "  <tbody>\n",
       "    <tr>\n",
       "      <th>0</th>\n",
       "      <td>0</td>\n",
       "      <td>0.734375</td>\n",
       "      <td>0.064453</td>\n",
       "      <td>0.039062</td>\n",
       "      <td>0.039062</td>\n",
       "    </tr>\n",
       "    <tr>\n",
       "      <th>1</th>\n",
       "      <td>0</td>\n",
       "      <td>0.732422</td>\n",
       "      <td>0.132812</td>\n",
       "      <td>0.039062</td>\n",
       "      <td>0.039062</td>\n",
       "    </tr>\n",
       "    <tr>\n",
       "      <th>2</th>\n",
       "      <td>0</td>\n",
       "      <td>0.765625</td>\n",
       "      <td>0.113281</td>\n",
       "      <td>0.039062</td>\n",
       "      <td>0.039062</td>\n",
       "    </tr>\n",
       "    <tr>\n",
       "      <th>3</th>\n",
       "      <td>0</td>\n",
       "      <td>0.759766</td>\n",
       "      <td>0.048828</td>\n",
       "      <td>0.039062</td>\n",
       "      <td>0.039062</td>\n",
       "    </tr>\n",
       "    <tr>\n",
       "      <th>4</th>\n",
       "      <td>0</td>\n",
       "      <td>0.792969</td>\n",
       "      <td>0.062500</td>\n",
       "      <td>0.039062</td>\n",
       "      <td>0.039062</td>\n",
       "    </tr>\n",
       "    <tr>\n",
       "      <th>...</th>\n",
       "      <td>...</td>\n",
       "      <td>...</td>\n",
       "      <td>...</td>\n",
       "      <td>...</td>\n",
       "      <td>...</td>\n",
       "    </tr>\n",
       "    <tr>\n",
       "      <th>612</th>\n",
       "      <td>0</td>\n",
       "      <td>0.058594</td>\n",
       "      <td>0.867188</td>\n",
       "      <td>0.039062</td>\n",
       "      <td>0.039062</td>\n",
       "    </tr>\n",
       "    <tr>\n",
       "      <th>613</th>\n",
       "      <td>0</td>\n",
       "      <td>0.085938</td>\n",
       "      <td>0.847656</td>\n",
       "      <td>0.039062</td>\n",
       "      <td>0.039062</td>\n",
       "    </tr>\n",
       "    <tr>\n",
       "      <th>614</th>\n",
       "      <td>0</td>\n",
       "      <td>0.060547</td>\n",
       "      <td>0.900391</td>\n",
       "      <td>0.039062</td>\n",
       "      <td>0.039062</td>\n",
       "    </tr>\n",
       "    <tr>\n",
       "      <th>615</th>\n",
       "      <td>0</td>\n",
       "      <td>0.054688</td>\n",
       "      <td>0.503906</td>\n",
       "      <td>0.039062</td>\n",
       "      <td>0.039062</td>\n",
       "    </tr>\n",
       "    <tr>\n",
       "      <th>616</th>\n",
       "      <td>0</td>\n",
       "      <td>0.085938</td>\n",
       "      <td>0.634766</td>\n",
       "      <td>0.039062</td>\n",
       "      <td>0.039062</td>\n",
       "    </tr>\n",
       "  </tbody>\n",
       "</table>\n",
       "<p>617 rows × 5 columns</p>\n",
       "</div>"
      ],
      "text/plain": [
       "     class         x         y     width    height\n",
       "0        0  0.734375  0.064453  0.039062  0.039062\n",
       "1        0  0.732422  0.132812  0.039062  0.039062\n",
       "2        0  0.765625  0.113281  0.039062  0.039062\n",
       "3        0  0.759766  0.048828  0.039062  0.039062\n",
       "4        0  0.792969  0.062500  0.039062  0.039062\n",
       "..     ...       ...       ...       ...       ...\n",
       "612      0  0.058594  0.867188  0.039062  0.039062\n",
       "613      0  0.085938  0.847656  0.039062  0.039062\n",
       "614      0  0.060547  0.900391  0.039062  0.039062\n",
       "615      0  0.054688  0.503906  0.039062  0.039062\n",
       "616      0  0.085938  0.634766  0.039062  0.039062\n",
       "\n",
       "[617 rows x 5 columns]"
      ]
     },
     "execution_count": 19,
     "metadata": {},
     "output_type": "execute_result"
    }
   ],
   "source": [
    "gdf_data0"
   ]
  },
  {
   "cell_type": "code",
   "execution_count": 20,
   "id": "607712e4",
   "metadata": {},
   "outputs": [],
   "source": [
    "gdf_data0.to_csv('data1.txt', index = False, sep=\" \", header=None)"
   ]
  },
  {
   "cell_type": "code",
   "execution_count": 25,
   "id": "06c5f05e",
   "metadata": {},
   "outputs": [
    {
     "name": "stdout",
     "output_type": "stream",
     "text": [
      "0 preprocessing_data/inter/patch_shp/8bit.0.shp\n",
      "1 preprocessing_data/inter/patch_shp/8bit.1.shp\n",
      "3 preprocessing_data/inter/patch_shp/8bit.3.shp\n",
      "2 preprocessing_data/inter/patch_shp/8bit.2.shp\n",
      "6 preprocessing_data/inter/patch_shp/8bit.6.shp\n",
      "7 preprocessing_data/inter/patch_shp/8bit.7.shp\n",
      "5 preprocessing_data/inter/patch_shp/8bit.5.shp\n",
      "4 preprocessing_data/inter/patch_shp/8bit.4.shp\n"
     ]
    }
   ],
   "source": [
    "for path in glob.glob(\"preprocessing_data/inter/patch_shp/*.shp\"):\n",
    "    gdf = gpd.read_file(path)\n",
    "    file_name = os.path.splitext(os.path.split(path)[1])[0]\n",
    "    patch_no = int(file_name.split('.')[1])\n",
    "    gdf['width'] = 18/256 # Assuming the bbox of every palm tree to be 9x9 pixels\n",
    "    gdf['height'] = 18/256\n",
    "    if patch_no < 4:\n",
    "        gdf['x'] = (gdf.loc[:, 'x'] - (256 * patch_no))/256\n",
    "        gdf['y'] = (gdf.loc[:, 'y'])/256\n",
    "    else:\n",
    "        gdf['x'] = (gdf.loc[:, 'x'] - (256 * abs(patch_no-4)))/256\n",
    "        gdf['y'] = (gdf.loc[:, 'y']- 256)/256\n",
    "    \n",
    "    gdf.drop(columns= 'geometry', inplace = True)\n",
    "    gdf['class'] = 0    \n",
    "    gdf = gdf.reindex(columns= ['class', 'x', 'y', 'width', 'height'])\n",
    "    \n",
    "    print(patch_no, path)\n",
    "    \n",
    "    gdf.to_csv(f'preprocessing_data/inter/label_txt/{file_name}.txt', index = False, sep=\" \", header=None)"
   ]
  }
 ],
 "metadata": {
  "kernelspec": {
   "display_name": "Python 3 (ipykernel)",
   "language": "python",
   "name": "python3"
  },
  "language_info": {
   "codemirror_mode": {
    "name": "ipython",
    "version": 3
   },
   "file_extension": ".py",
   "mimetype": "text/x-python",
   "name": "python",
   "nbconvert_exporter": "python",
   "pygments_lexer": "ipython3",
   "version": "3.11.9"
  }
 },
 "nbformat": 4,
 "nbformat_minor": 5
}
